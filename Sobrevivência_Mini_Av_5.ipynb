{
  "nbformat": 4,
  "nbformat_minor": 0,
  "metadata": {
    "colab": {
      "provenance": [],
      "gpuType": "T4"
    },
    "kernelspec": {
      "name": "ir",
      "display_name": "R"
    },
    "language_info": {
      "name": "R"
    },
    "accelerator": "GPU"
  },
  "cells": [
    {
      "cell_type": "markdown",
      "source": [
        "**Author: Ada Maris Pereira Mário**"
      ],
      "metadata": {
        "id": "4MKfF9g3ygWQ"
      }
    },
    {
      "cell_type": "markdown",
      "source": [
        "## Bibliotecas"
      ],
      "metadata": {
        "id": "HBSHfNtIkd9I"
      }
    },
    {
      "cell_type": "code",
      "source": [
        "install.packages(\"KMsurv\")\n",
        "install.packages(\"gamlss\")\n",
        "install.packages(\"gamlss.cens\")\n",
        "install.packages(\"broom\")\n",
        "install.packages(\"tidyverse\")\n",
        "install.packages(\"pammtools\")\n",
        "install.packages(\"numDeriv\")\n",
        "install.packages(\"KMsurv\")\n",
        "\n",
        "library(KMsurv)\n",
        "library(gamlss)\n",
        "library(gamlss.cens)\n",
        "library(broom)\n",
        "library(tidyverse)\n",
        "library(pammtools)\n",
        "library(numDeriv)\n"
      ],
      "metadata": {
        "colab": {
          "base_uri": "https://localhost:8080/"
        },
        "id": "8LgsXm9FFKs1",
        "outputId": "191405c2-b211-4b0e-a3ca-4dcda724a54d"
      },
      "execution_count": null,
      "outputs": [
        {
          "output_type": "stream",
          "name": "stderr",
          "text": [
            "Installing package into ‘/usr/local/lib/R/site-library’\n",
            "(as ‘lib’ is unspecified)\n",
            "\n",
            "Installing package into ‘/usr/local/lib/R/site-library’\n",
            "(as ‘lib’ is unspecified)\n",
            "\n",
            "also installing the dependencies ‘gamlss.data’, ‘gamlss.dist’\n",
            "\n",
            "\n",
            "Installing package into ‘/usr/local/lib/R/site-library’\n",
            "(as ‘lib’ is unspecified)\n",
            "\n",
            "Installing package into ‘/usr/local/lib/R/site-library’\n",
            "(as ‘lib’ is unspecified)\n",
            "\n",
            "Installing package into ‘/usr/local/lib/R/site-library’\n",
            "(as ‘lib’ is unspecified)\n",
            "\n",
            "Installing package into ‘/usr/local/lib/R/site-library’\n",
            "(as ‘lib’ is unspecified)\n",
            "\n",
            "also installing the dependencies ‘zoo’, ‘listenv’, ‘parallelly’, ‘shape’, ‘gridExtra’, ‘viridis’, ‘MatrixModels’, ‘TH.data’, ‘sandwich’, ‘htmlwidgets’, ‘RcppEigen’, ‘future’, ‘globals’, ‘Rcpp’, ‘diagram’, ‘iterators’, ‘Hmisc’, ‘quantreg’, ‘SparseM’, ‘polspline’, ‘multcomp’, ‘htmlTable’, ‘cmprsk’, ‘doParallel’, ‘mets’, ‘plotrix’, ‘Publish’, ‘ranger’, ‘RcppArmadillo’, ‘future.apply’, ‘numDeriv’, ‘progressr’, ‘SQUAREM’, ‘prodlim’, ‘foreach’, ‘rms’, ‘riskRegression’, ‘lava’, ‘timereg’, ‘checkmate’, ‘lazyeval’, ‘Formula’, ‘mvtnorm’, ‘pec’\n",
            "\n",
            "\n",
            "Installing package into ‘/usr/local/lib/R/site-library’\n",
            "(as ‘lib’ is unspecified)\n",
            "\n",
            "Installing package into ‘/usr/local/lib/R/site-library’\n",
            "(as ‘lib’ is unspecified)\n",
            "\n",
            "Loading required package: splines\n",
            "\n",
            "Loading required package: gamlss.data\n",
            "\n",
            "\n",
            "Attaching package: ‘gamlss.data’\n",
            "\n",
            "\n",
            "The following object is masked from ‘package:datasets’:\n",
            "\n",
            "    sleep\n",
            "\n",
            "\n",
            "Loading required package: gamlss.dist\n",
            "\n",
            "Loading required package: nlme\n",
            "\n",
            "Loading required package: parallel\n",
            "\n",
            " **********   GAMLSS Version 5.4-22  ********** \n",
            "\n",
            "For more on GAMLSS look at https://www.gamlss.com/\n",
            "\n",
            "Type gamlssNews() to see new features/changes/bug fixes.\n",
            "\n",
            "\n",
            "Loading required package: survival\n",
            "\n",
            "── \u001b[1mAttaching core tidyverse packages\u001b[22m ──────────────────────── tidyverse 2.0.0 ──\n",
            "\u001b[32m✔\u001b[39m \u001b[34mdplyr    \u001b[39m 1.1.4     \u001b[32m✔\u001b[39m \u001b[34mreadr    \u001b[39m 2.1.5\n",
            "\u001b[32m✔\u001b[39m \u001b[34mforcats  \u001b[39m 1.0.0     \u001b[32m✔\u001b[39m \u001b[34mstringr  \u001b[39m 1.5.1\n",
            "\u001b[32m✔\u001b[39m \u001b[34mggplot2  \u001b[39m 3.4.4     \u001b[32m✔\u001b[39m \u001b[34mtibble   \u001b[39m 3.2.1\n",
            "\u001b[32m✔\u001b[39m \u001b[34mlubridate\u001b[39m 1.9.3     \u001b[32m✔\u001b[39m \u001b[34mtidyr    \u001b[39m 1.3.1\n",
            "\u001b[32m✔\u001b[39m \u001b[34mpurrr    \u001b[39m 1.0.2     \n",
            "── \u001b[1mConflicts\u001b[22m ────────────────────────────────────────── tidyverse_conflicts() ──\n",
            "\u001b[31m✖\u001b[39m \u001b[34mpurrr\u001b[39m::\u001b[32m%||%()\u001b[39m     masks \u001b[34mbase\u001b[39m::%||%()\n",
            "\u001b[31m✖\u001b[39m \u001b[34mdplyr\u001b[39m::\u001b[32mcollapse()\u001b[39m masks \u001b[34mnlme\u001b[39m::collapse()\n",
            "\u001b[31m✖\u001b[39m \u001b[34mdplyr\u001b[39m::\u001b[32mfilter()\u001b[39m   masks \u001b[34mstats\u001b[39m::filter()\n",
            "\u001b[31m✖\u001b[39m \u001b[34mdplyr\u001b[39m::\u001b[32mlag()\u001b[39m      masks \u001b[34mstats\u001b[39m::lag()\n",
            "\u001b[36mℹ\u001b[39m Use the conflicted package (\u001b[3m\u001b[34m<http://conflicted.r-lib.org/>\u001b[39m\u001b[23m) to force all conflicts to become errors\n",
            "\n",
            "Attaching package: ‘pammtools’\n",
            "\n",
            "\n",
            "The following object is masked from ‘package:stats’:\n",
            "\n",
            "    filter\n",
            "\n",
            "\n"
          ]
        }
      ]
    },
    {
      "cell_type": "markdown",
      "source": [
        "# SME0821 - Mini-Avaliação 4"
      ],
      "metadata": {
        "id": "cLirm-FfyStJ"
      }
    },
    {
      "cell_type": "code",
      "source": [
        "# Carregar o banco de dados \"std\"\n",
        "data(std)\n",
        "head(std)"
      ],
      "metadata": {
        "id": "BWwv_euLlcuk",
        "colab": {
          "base_uri": "https://localhost:8080/",
          "height": 286
        },
        "outputId": "eb704186-1065-4076-e2ba-ed7d182ba2a4"
      },
      "execution_count": null,
      "outputs": [
        {
          "output_type": "display_data",
          "data": {
            "text/html": [
              "<table class=\"dataframe\">\n",
              "<caption>A data.frame: 6 × 24</caption>\n",
              "<thead>\n",
              "\t<tr><th></th><th scope=col>obs</th><th scope=col>race</th><th scope=col>marital</th><th scope=col>age</th><th scope=col>yschool</th><th scope=col>iinfct</th><th scope=col>npartner</th><th scope=col>os12m</th><th scope=col>os30d</th><th scope=col>rs12m</th><th scope=col>⋯</th><th scope=col>condom</th><th scope=col>itch</th><th scope=col>lesion</th><th scope=col>rash</th><th scope=col>lymph</th><th scope=col>vagina</th><th scope=col>dchexam</th><th scope=col>abnode</th><th scope=col>rinfct</th><th scope=col>time</th></tr>\n",
              "\t<tr><th></th><th scope=col>&lt;int&gt;</th><th scope=col>&lt;fct&gt;</th><th scope=col>&lt;fct&gt;</th><th scope=col>&lt;int&gt;</th><th scope=col>&lt;int&gt;</th><th scope=col>&lt;int&gt;</th><th scope=col>&lt;int&gt;</th><th scope=col>&lt;int&gt;</th><th scope=col>&lt;int&gt;</th><th scope=col>&lt;int&gt;</th><th scope=col>⋯</th><th scope=col>&lt;int&gt;</th><th scope=col>&lt;int&gt;</th><th scope=col>&lt;int&gt;</th><th scope=col>&lt;int&gt;</th><th scope=col>&lt;int&gt;</th><th scope=col>&lt;int&gt;</th><th scope=col>&lt;int&gt;</th><th scope=col>&lt;int&gt;</th><th scope=col>&lt;int&gt;</th><th scope=col>&lt;int&gt;</th></tr>\n",
              "</thead>\n",
              "<tbody>\n",
              "\t<tr><th scope=row>1</th><td>1</td><td>B</td><td>S</td><td>19</td><td>14</td><td>3</td><td>1</td><td>0</td><td>0</td><td>0</td><td>⋯</td><td>3</td><td>0</td><td>0</td><td>0</td><td>0</td><td>0</td><td>1</td><td>0</td><td>0</td><td>984</td></tr>\n",
              "\t<tr><th scope=row>2</th><td>2</td><td>B</td><td>S</td><td>23</td><td>16</td><td>2</td><td>2</td><td>1</td><td>0</td><td>0</td><td>⋯</td><td>2</td><td>0</td><td>0</td><td>0</td><td>0</td><td>0</td><td>1</td><td>0</td><td>0</td><td>984</td></tr>\n",
              "\t<tr><th scope=row>3</th><td>3</td><td>W</td><td>D</td><td>33</td><td>12</td><td>2</td><td>3</td><td>1</td><td>1</td><td>1</td><td>⋯</td><td>1</td><td>0</td><td>0</td><td>0</td><td>0</td><td>0</td><td>0</td><td>0</td><td>0</td><td> 42</td></tr>\n",
              "\t<tr><th scope=row>4</th><td>4</td><td>B</td><td>S</td><td>43</td><td>12</td><td>3</td><td>1</td><td>0</td><td>0</td><td>0</td><td>⋯</td><td>1</td><td>0</td><td>0</td><td>0</td><td>0</td><td>0</td><td>1</td><td>0</td><td>1</td><td> 54</td></tr>\n",
              "\t<tr><th scope=row>5</th><td>5</td><td>B</td><td>S</td><td>30</td><td>14</td><td>2</td><td>2</td><td>1</td><td>1</td><td>1</td><td>⋯</td><td>2</td><td>0</td><td>0</td><td>0</td><td>0</td><td>0</td><td>1</td><td>0</td><td>1</td><td> 77</td></tr>\n",
              "\t<tr><th scope=row>6</th><td>6</td><td>B</td><td>S</td><td>24</td><td>11</td><td>3</td><td>1</td><td>0</td><td>0</td><td>0</td><td>⋯</td><td>3</td><td>0</td><td>0</td><td>0</td><td>0</td><td>0</td><td>1</td><td>0</td><td>0</td><td> 70</td></tr>\n",
              "</tbody>\n",
              "</table>\n"
            ],
            "text/markdown": "\nA data.frame: 6 × 24\n\n| <!--/--> | obs &lt;int&gt; | race &lt;fct&gt; | marital &lt;fct&gt; | age &lt;int&gt; | yschool &lt;int&gt; | iinfct &lt;int&gt; | npartner &lt;int&gt; | os12m &lt;int&gt; | os30d &lt;int&gt; | rs12m &lt;int&gt; | ⋯ ⋯ | condom &lt;int&gt; | itch &lt;int&gt; | lesion &lt;int&gt; | rash &lt;int&gt; | lymph &lt;int&gt; | vagina &lt;int&gt; | dchexam &lt;int&gt; | abnode &lt;int&gt; | rinfct &lt;int&gt; | time &lt;int&gt; |\n|---|---|---|---|---|---|---|---|---|---|---|---|---|---|---|---|---|---|---|---|---|---|\n| 1 | 1 | B | S | 19 | 14 | 3 | 1 | 0 | 0 | 0 | ⋯ | 3 | 0 | 0 | 0 | 0 | 0 | 1 | 0 | 0 | 984 |\n| 2 | 2 | B | S | 23 | 16 | 2 | 2 | 1 | 0 | 0 | ⋯ | 2 | 0 | 0 | 0 | 0 | 0 | 1 | 0 | 0 | 984 |\n| 3 | 3 | W | D | 33 | 12 | 2 | 3 | 1 | 1 | 1 | ⋯ | 1 | 0 | 0 | 0 | 0 | 0 | 0 | 0 | 0 |  42 |\n| 4 | 4 | B | S | 43 | 12 | 3 | 1 | 0 | 0 | 0 | ⋯ | 1 | 0 | 0 | 0 | 0 | 0 | 1 | 0 | 1 |  54 |\n| 5 | 5 | B | S | 30 | 14 | 2 | 2 | 1 | 1 | 1 | ⋯ | 2 | 0 | 0 | 0 | 0 | 0 | 1 | 0 | 1 |  77 |\n| 6 | 6 | B | S | 24 | 11 | 3 | 1 | 0 | 0 | 0 | ⋯ | 3 | 0 | 0 | 0 | 0 | 0 | 1 | 0 | 0 |  70 |\n\n",
            "text/latex": "A data.frame: 6 × 24\n\\begin{tabular}{r|lllllllllllllllllllll}\n  & obs & race & marital & age & yschool & iinfct & npartner & os12m & os30d & rs12m & ⋯ & condom & itch & lesion & rash & lymph & vagina & dchexam & abnode & rinfct & time\\\\\n  & <int> & <fct> & <fct> & <int> & <int> & <int> & <int> & <int> & <int> & <int> & ⋯ & <int> & <int> & <int> & <int> & <int> & <int> & <int> & <int> & <int> & <int>\\\\\n\\hline\n\t1 & 1 & B & S & 19 & 14 & 3 & 1 & 0 & 0 & 0 & ⋯ & 3 & 0 & 0 & 0 & 0 & 0 & 1 & 0 & 0 & 984\\\\\n\t2 & 2 & B & S & 23 & 16 & 2 & 2 & 1 & 0 & 0 & ⋯ & 2 & 0 & 0 & 0 & 0 & 0 & 1 & 0 & 0 & 984\\\\\n\t3 & 3 & W & D & 33 & 12 & 2 & 3 & 1 & 1 & 1 & ⋯ & 1 & 0 & 0 & 0 & 0 & 0 & 0 & 0 & 0 &  42\\\\\n\t4 & 4 & B & S & 43 & 12 & 3 & 1 & 0 & 0 & 0 & ⋯ & 1 & 0 & 0 & 0 & 0 & 0 & 1 & 0 & 1 &  54\\\\\n\t5 & 5 & B & S & 30 & 14 & 2 & 2 & 1 & 1 & 1 & ⋯ & 2 & 0 & 0 & 0 & 0 & 0 & 1 & 0 & 1 &  77\\\\\n\t6 & 6 & B & S & 24 & 11 & 3 & 1 & 0 & 0 & 0 & ⋯ & 3 & 0 & 0 & 0 & 0 & 0 & 1 & 0 & 0 &  70\\\\\n\\end{tabular}\n",
            "text/plain": [
              "  obs race marital age yschool iinfct npartner os12m os30d rs12m ⋯ condom itch\n",
              "1 1   B    S       19  14      3      1        0     0     0     ⋯ 3      0   \n",
              "2 2   B    S       23  16      2      2        1     0     0     ⋯ 2      0   \n",
              "3 3   W    D       33  12      2      3        1     1     1     ⋯ 1      0   \n",
              "4 4   B    S       43  12      3      1        0     0     0     ⋯ 1      0   \n",
              "5 5   B    S       30  14      2      2        1     1     1     ⋯ 2      0   \n",
              "6 6   B    S       24  11      3      1        0     0     0     ⋯ 3      0   \n",
              "  lesion rash lymph vagina dchexam abnode rinfct time\n",
              "1 0      0    0     0      1       0      0      984 \n",
              "2 0      0    0     0      1       0      0      984 \n",
              "3 0      0    0     0      0       0      0       42 \n",
              "4 0      0    0     0      1       0      1       54 \n",
              "5 0      0    0     0      1       0      1       77 \n",
              "6 0      0    0     0      1       0      0       70 "
            ]
          },
          "metadata": {}
        }
      ]
    },
    {
      "cell_type": "markdown",
      "source": [
        "## 1)"
      ],
      "metadata": {
        "id": "6qjM0hp0y-Zg"
      }
    },
    {
      "cell_type": "markdown",
      "source": [
        "Ajuste um modelo de regressão de Weibull utilizando as seguintes covariáveis: yschool - Anos de estudo; npartner - Número de parceiros nos últimos 30 dias. Analise os resultados obtidos e classifique as alternativas. Obs: as covariáveis é incluída no parâmetro μ.\n",
        "\n",
        "  I) Após o ajuste do modelo, identificou-se que as covariáveis yschool e npartner são significativas.\n",
        "\n",
        "  II) A estimativa obtida para a covariável yschool foi de 0.20882 com erro padrão de 0.04373. E a estimativa obtida para a covariável npartner foi de -0.07160 com erro padrão de 0.06548.\n",
        "  \n",
        "  III) Após o ajuste do modelo, identificou-se que apenas a covariável yschool é significativa.\n",
        "  \n",
        "  IV) Todas as estimativas obtidas neste modelo ajustado podem ser interpretadas."
      ],
      "metadata": {
        "id": "xQGemXA7zUEX"
      }
    },
    {
      "cell_type": "code",
      "source": [
        "gen.cens(WEI)\n",
        "weibull_model1 = gamlss(Surv(time, rinfct) ~ yschool + npartner, family=WEIrc(mu.link = 'log', sigma.link = 'log'), data=std)\n",
        "summary(weibull_model1)"
      ],
      "metadata": {
        "id": "XkmJXkhl2Ott",
        "colab": {
          "base_uri": "https://localhost:8080/"
        },
        "outputId": "2c35dbbc-544e-4f1b-ce9d-961de51ecb53"
      },
      "execution_count": null,
      "outputs": [
        {
          "output_type": "stream",
          "name": "stdout",
          "text": [
            "A censored family of distributions from WEI has been generated \n",
            " and saved under the names:  \n",
            " dWEIrc pWEIrc qWEIrc WEIrc \n",
            "The type of censoring is right  \n",
            "GAMLSS-RS iteration 1: Global Deviance = 5369.856 \n",
            "GAMLSS-RS iteration 2: Global Deviance = 5369.772 \n",
            "GAMLSS-RS iteration 3: Global Deviance = 5369.767 \n",
            "GAMLSS-RS iteration 4: Global Deviance = 5369.766 \n",
            "******************************************************************\n",
            "Family:  c(\"WEIrc\", \"right censored Weibull\") \n",
            "\n",
            "Call:  gamlss(formula = Surv(time, rinfct) ~ yschool + npartner,  \n",
            "    family = WEIrc(mu.link = \"log\", sigma.link = \"log\"),      data = std) \n",
            "\n",
            "Fitting method: RS() \n",
            "\n",
            "------------------------------------------------------------------\n",
            "Mu link function:  log\n",
            "Mu Coefficients:\n",
            "            Estimate Std. Error t value Pr(>|t|)    \n",
            "(Intercept)  4.73256    0.49018   9.655  < 2e-16 ***\n",
            "yschool      0.20881    0.04373   4.776  2.1e-06 ***\n",
            "npartner    -0.07160    0.06548  -1.094    0.274    \n",
            "---\n",
            "Signif. codes:  0 ‘***’ 0.001 ‘**’ 0.01 ‘*’ 0.05 ‘.’ 0.1 ‘ ’ 1\n",
            "\n",
            "------------------------------------------------------------------\n",
            "Sigma link function:  log\n",
            "Sigma Coefficients:\n",
            "            Estimate Std. Error t value Pr(>|t|)    \n",
            "(Intercept)  -0.2725     0.0446  -6.109  1.5e-09 ***\n",
            "---\n",
            "Signif. codes:  0 ‘***’ 0.001 ‘**’ 0.01 ‘*’ 0.05 ‘.’ 0.1 ‘ ’ 1\n",
            "\n",
            "------------------------------------------------------------------\n",
            "No. of observations in the fit:  877 \n",
            "Degrees of Freedom for the fit:  4\n",
            "      Residual Deg. of Freedom:  873 \n",
            "                      at cycle:  4 \n",
            " \n",
            "Global Deviance:     5369.766 \n",
            "            AIC:     5377.766 \n",
            "            SBC:     5396.872 \n",
            "******************************************************************\n"
          ]
        }
      ]
    },
    {
      "cell_type": "markdown",
      "source": [
        "## 2)\n",
        "\n",
        "Ajuste um modelo de regressão de Weibull utilizando a covariável abdpain - Presença de dor abdominal (1=sim e 0=não). Analise os resultados obtidos e selecione a alternativa correta. Obs: a covariável é incluida no parâmetro μ.\n",
        "\n",
        "\n",
        "a) As estimativas obtidas da modelagem são μ1= 7.063, μ2=-0.393, σ= 0.281\n",
        "\n",
        "b) A interpretação do parâmetro associado à variável abdpain é:  à medida que a dor abdominal aumenta em uma unidade, espera-se que o tempo de sobrevivência do paciente diminua em um fator de e−0.393≈0.675.\n",
        "\n",
        "c) A matriz de variância-covariância é  Cov=⎡⎣⎢0.0073104570.006310640−0.0016065120.00631063950.0373636463−0.0003651316−0.0016065125−0.00036513160.0019946585⎤⎦⎥\n",
        "\n",
        "d) O parâmetro σ representa o logaritmo da desvio padrão da distribuição Weibull.\n",
        "\n",
        "e) A estimativa do σ indica que a forma da função de risco associada a esta distribuição está diminuindo ao longo do tempo."
      ],
      "metadata": {
        "id": "_hPpI7ZlzVIn"
      }
    },
    {
      "cell_type": "code",
      "source": [
        "weibull_model2 = gamlss(Surv(time, rinfct) ~ abdpain, family=WEIrc(mu.link = 'log', sigma.link = 'log'), data=std)\n",
        "summary(weibull_model2)"
      ],
      "metadata": {
        "id": "L-WbucfG3BrW",
        "colab": {
          "base_uri": "https://localhost:8080/"
        },
        "outputId": "6edf7d89-f589-4812-c2a8-87bd11d83ab7"
      },
      "execution_count": null,
      "outputs": [
        {
          "output_type": "stream",
          "name": "stdout",
          "text": [
            "GAMLSS-RS iteration 1: Global Deviance = 5390.44 \n",
            "GAMLSS-RS iteration 2: Global Deviance = 5390.309 \n",
            "GAMLSS-RS iteration 3: Global Deviance = 5390.301 \n",
            "GAMLSS-RS iteration 4: Global Deviance = 5390.3 \n",
            "******************************************************************\n",
            "Family:  c(\"WEIrc\", \"right censored Weibull\") \n",
            "\n",
            "Call:  \n",
            "gamlss(formula = Surv(time, rinfct) ~ abdpain, family = WEIrc(mu.link = \"log\",  \n",
            "    sigma.link = \"log\"), data = std) \n",
            "\n",
            "Fitting method: RS() \n",
            "\n",
            "------------------------------------------------------------------\n",
            "Mu link function:  log\n",
            "Mu Coefficients:\n",
            "            Estimate Std. Error t value Pr(>|t|)    \n",
            "(Intercept)   7.0634     0.0855  82.612   <2e-16 ***\n",
            "abdpain      -0.3929     0.1933  -2.033   0.0424 *  \n",
            "---\n",
            "Signif. codes:  0 ‘***’ 0.001 ‘**’ 0.01 ‘*’ 0.05 ‘.’ 0.1 ‘ ’ 1\n",
            "\n",
            "------------------------------------------------------------------\n",
            "Sigma link function:  log\n",
            "Sigma Coefficients:\n",
            "            Estimate Std. Error t value Pr(>|t|)    \n",
            "(Intercept) -0.28067    0.04466  -6.284 5.19e-10 ***\n",
            "---\n",
            "Signif. codes:  0 ‘***’ 0.001 ‘**’ 0.01 ‘*’ 0.05 ‘.’ 0.1 ‘ ’ 1\n",
            "\n",
            "------------------------------------------------------------------\n",
            "No. of observations in the fit:  877 \n",
            "Degrees of Freedom for the fit:  3\n",
            "      Residual Deg. of Freedom:  874 \n",
            "                      at cycle:  4 \n",
            " \n",
            "Global Deviance:     5390.3 \n",
            "            AIC:     5396.3 \n",
            "            SBC:     5410.63 \n",
            "******************************************************************\n"
          ]
        }
      ]
    },
    {
      "cell_type": "code",
      "source": [
        "mcov2 = vcov(weibull_model2)\n",
        "print(mcov2)"
      ],
      "metadata": {
        "id": "X6wZ_j6T8gAr",
        "colab": {
          "base_uri": "https://localhost:8080/"
        },
        "outputId": "9df9453e-e3dc-40ad-98d1-7e50baf21a6a"
      },
      "execution_count": null,
      "outputs": [
        {
          "output_type": "stream",
          "name": "stdout",
          "text": [
            "             (Intercept)       abdpain   (Intercept)\n",
            "(Intercept)  0.007310445 -0.0063106166 -0.0016065086\n",
            "abdpain     -0.006310617  0.0373637297  0.0003651106\n",
            "(Intercept) -0.001606509  0.0003651106  0.0019946581\n"
          ]
        }
      ]
    },
    {
      "cell_type": "markdown",
      "source": [
        "## 3)\n",
        "\n",
        "Ajuste o modelo de Cox e considere as cováriaveis: yschool - Anos de estudo; npartner - Número de parceiros nos últimos 30 dias e abdpain - Presença de dor abdominal (1=sim e 0=não).Interprete seus parâmetros acerca da razão de riscos e julgue as sentenças abaixo.\n",
        "\n",
        "O coeficiente negativo indica que uma diminuição no tempo de escolaridade está associado a uma redução no risco de reinfecção. O hazard ratio de 0.84945 significa que para cada unidade adicional no tempo de escolaridade, o risco de reinfecção diminui em aproximadamente 15%. Com um p-valor menor que 0.01, esta covariável é estatisticamente significativa, indicando que tempo de escolaridade é um fator relevante para o risco de reinfecção.\n",
        "\n",
        "O coeficiente positivo indica que um aumento no número de parceiros está associado a um aumento no risco de reinfecção. O hazard ratio de 1.05059 significa que para cada parceiro adicional, o risco de reinfecção aumenta em aproximadamente 5%. No entanto, esta covariável não é estatisticamente significativa no modelo, sugerindo que o número de parceiros pode não ter um impacto substancial no risco de reinfecção.\n",
        "\n",
        "O coeficiente positivo indica que a presença de dor abdominal está associada a um aumento no risco de reinfecção. O hazard ratio de 1.34956 significa que a presença de dor abdominal aumenta o risco de reinfecção em aproximadamente 35%. Com um p-valor de 0.0411, esta covariável é estatisticamente significativa, indicando que a dor abdominal é um fator relevante para o risco de reinfecção.\n"
      ],
      "metadata": {
        "id": "vl7quhqozuUf"
      }
    },
    {
      "cell_type": "code",
      "source": [
        "cox_model1 = coxph(Surv(time, rinfct) ~ yschool + npartner + abdpain, data=std)\n",
        "summary(cox_model1)"
      ],
      "metadata": {
        "colab": {
          "base_uri": "https://localhost:8080/",
          "height": 399
        },
        "id": "NtTX4iCG-F6m",
        "outputId": "102eed54-30a3-447f-dc34-285120325ddf"
      },
      "execution_count": null,
      "outputs": [
        {
          "output_type": "display_data",
          "data": {
            "text/plain": [
              "Call:\n",
              "coxph(formula = Surv(time, rinfct) ~ yschool + npartner + abdpain, \n",
              "    data = std)\n",
              "\n",
              "  n= 877, number of events= 347 \n",
              "\n",
              "             coef exp(coef) se(coef)      z Pr(>|z|)    \n",
              "yschool  -0.16328   0.84935  0.03324 -4.912 9.02e-07 ***\n",
              "npartner  0.04937   1.05061  0.04990  0.989   0.3225    \n",
              "abdpain   0.30038   1.35038  0.14675  2.047   0.0407 *  \n",
              "---\n",
              "Signif. codes:  0 ‘***’ 0.001 ‘**’ 0.01 ‘*’ 0.05 ‘.’ 0.1 ‘ ’ 1\n",
              "\n",
              "         exp(coef) exp(-coef) lower .95 upper .95\n",
              "yschool     0.8494     1.1774    0.7958    0.9065\n",
              "npartner    1.0506     0.9518    0.9527    1.1586\n",
              "abdpain     1.3504     0.7405    1.0128    1.8004\n",
              "\n",
              "Concordance= 0.575  (se = 0.017 )\n",
              "Likelihood ratio test= 29.02  on 3 df,   p=2e-06\n",
              "Wald test            = 28.73  on 3 df,   p=3e-06\n",
              "Score (logrank) test = 28.58  on 3 df,   p=3e-06\n"
            ]
          },
          "metadata": {}
        }
      ]
    },
    {
      "cell_type": "markdown",
      "source": [
        "## 4)\n",
        "\n",
        "Ajuste dois modelos de cox, primeiro considere as cováriaveis: npartner e abdpain. No segundo modelo adicione a interação entre as covariáveis “npartner” e “abdpain”. Acerca das afirmações abaixo classifique como verdadeira ou falsa.\n",
        "\n",
        "Todas as covariáveis no primeiro modelo foram significativas a um nível de 10% de significância mas ao considerar um nível de 5% a covariável “abdpain” não é significativa.\n",
        "\n",
        "O coeficiente estimado para a covariável “npartner” no primeiro modelo é positivo mas abaixo de 0.05, indicando que conforme o valor dela aumenta, o risco de falha diminui.\n",
        "\n",
        "A magnitude do coeficiente mostra a força da associação entre a covariável e o risco de falha. Coeficientes com maior valor absoluto têm um impacto mais significativo na função de risco. Com isso a covariável que indica dor abdominal é a que possui maior impacto no primeiro modelo de cox ajustado.\n",
        "\n",
        "Ao ajustar o modelo que considera a interação entre as covariáveis “npartner” e “abdpain” verificamos que esta é a que possui menor p-valor, com isso é a mais significativa, portanto, sendo necessária considerá-la na modelagem final.\n"
      ],
      "metadata": {
        "id": "9yFusIY5z3VR"
      }
    },
    {
      "cell_type": "code",
      "source": [
        "cox_model2 = coxph(Surv(time, rinfct) ~ npartner + abdpain, data=std)\n",
        "summary(cox_model2)"
      ],
      "metadata": {
        "colab": {
          "base_uri": "https://localhost:8080/",
          "height": 347
        },
        "id": "u9Pr-VGaFAld",
        "outputId": "6da16a04-2525-4b0c-e526-1e6697405587"
      },
      "execution_count": null,
      "outputs": [
        {
          "output_type": "display_data",
          "data": {
            "text/plain": [
              "Call:\n",
              "coxph(formula = Surv(time, rinfct) ~ npartner + abdpain, data = std)\n",
              "\n",
              "  n= 877, number of events= 347 \n",
              "\n",
              "            coef exp(coef) se(coef)     z Pr(>|z|)  \n",
              "npartner 0.04343   1.04438  0.04911 0.884   0.3766  \n",
              "abdpain  0.29196   1.33905  0.14671 1.990   0.0466 *\n",
              "---\n",
              "Signif. codes:  0 ‘***’ 0.001 ‘**’ 0.01 ‘*’ 0.05 ‘.’ 0.1 ‘ ’ 1\n",
              "\n",
              "         exp(coef) exp(-coef) lower .95 upper .95\n",
              "npartner     1.044     0.9575    0.9485     1.150\n",
              "abdpain      1.339     0.7468    1.0044     1.785\n",
              "\n",
              "Concordance= 0.519  (se = 0.016 )\n",
              "Likelihood ratio test= 4.66  on 2 df,   p=0.1\n",
              "Wald test            = 5.04  on 2 df,   p=0.08\n",
              "Score (logrank) test = 5.06  on 2 df,   p=0.08\n"
            ]
          },
          "metadata": {}
        }
      ]
    },
    {
      "cell_type": "code",
      "source": [
        "cox_model3 = coxph(Surv(time, rinfct) ~ npartner * abdpain, data=std)\n",
        "summary(cox_model3)"
      ],
      "metadata": {
        "colab": {
          "base_uri": "https://localhost:8080/",
          "height": 347
        },
        "id": "QWUd7ARPFplw",
        "outputId": "f951a1eb-dec1-4345-e75b-1caf9b9c67cc"
      },
      "execution_count": null,
      "outputs": [
        {
          "output_type": "display_data",
          "data": {
            "text/plain": [
              "Call:\n",
              "coxph(formula = Surv(time, rinfct) ~ npartner * abdpain, data = std)\n",
              "\n",
              "  n= 877, number of events= 347 \n",
              "\n",
              "                      coef exp(coef)  se(coef)     z Pr(>|z|)\n",
              "npartner         0.0002588 1.0002588 0.0660843 0.004    0.997\n",
              "abdpain          0.1506696 1.1626124 0.1959681 0.769    0.442\n",
              "npartner:abdpain 0.0990160 1.1040840 0.0899701 1.101    0.271\n",
              "\n",
              "                 exp(coef) exp(-coef) lower .95 upper .95\n",
              "npartner             1.000     0.9997    0.8787     1.139\n",
              "abdpain              1.163     0.8601    0.7918     1.707\n",
              "npartner:abdpain     1.104     0.9057    0.9256     1.317\n",
              "\n",
              "Concordance= 0.519  (se = 0.016 )\n",
              "Likelihood ratio test= 5.79  on 3 df,   p=0.1\n",
              "Wald test            = 7.33  on 3 df,   p=0.06\n",
              "Score (logrank) test = 7.76  on 3 df,   p=0.05\n"
            ]
          },
          "metadata": {}
        }
      ]
    },
    {
      "cell_type": "markdown",
      "source": [
        "## 5)\n",
        "\n",
        "Ajuste dois modelos de cox, sendo o primeiro considerando apenas a covariável yschool e o segundo yschool e npartner. Indique qual das afimativas abaixo é verdadeira.\n",
        "\n",
        "\n",
        "\n",
        "a. A inclusão da covariável npartner no segundo modelo torna a covariável yschool significativa.\n",
        "\n",
        "b. O coeficiente de yschool no primeiro modelo indica que um aumento no tempo de escolaridade está associado a um aumento no risco de reinfecção.\n",
        "\n",
        "c. No segundo modelo, o coeficiente de yschool continua significativo, enquanto o coeficiente de npartner não é estatisticamente significativo.\n",
        "\n",
        "d. A inclusão da covariável npartner no segundo modelo indica que um aumento no número de parceiros está associado a uma redução no risco de reinfecção para a cováriavel yschool, já que o coeficiente era -0.16047 e passou a ser -0.16161"
      ],
      "metadata": {
        "id": "uwsKN87V0NkW"
      }
    },
    {
      "cell_type": "code",
      "source": [
        "cox_model4 = coxph(Surv(time, rinfct) ~ yschool, data=std)\n",
        "summary(cox_model4)"
      ],
      "metadata": {
        "colab": {
          "base_uri": "https://localhost:8080/",
          "height": 312
        },
        "id": "ZoBPb8uXJt8r",
        "outputId": "e761c841-6542-4be8-93f1-734a3461069d"
      },
      "execution_count": null,
      "outputs": [
        {
          "output_type": "display_data",
          "data": {
            "text/plain": [
              "Call:\n",
              "coxph(formula = Surv(time, rinfct) ~ yschool, data = std)\n",
              "\n",
              "  n= 877, number of events= 347 \n",
              "\n",
              "            coef exp(coef) se(coef)      z Pr(>|z|)    \n",
              "yschool -0.16058   0.85165  0.03294 -4.874 1.09e-06 ***\n",
              "---\n",
              "Signif. codes:  0 ‘***’ 0.001 ‘**’ 0.01 ‘*’ 0.05 ‘.’ 0.1 ‘ ’ 1\n",
              "\n",
              "        exp(coef) exp(-coef) lower .95 upper .95\n",
              "yschool    0.8517      1.174    0.7984    0.9085\n",
              "\n",
              "Concordance= 0.567  (se = 0.016 )\n",
              "Likelihood ratio test= 23.95  on 1 df,   p=1e-06\n",
              "Wald test            = 23.76  on 1 df,   p=1e-06\n",
              "Score (logrank) test = 23.5  on 1 df,   p=1e-06\n"
            ]
          },
          "metadata": {}
        }
      ]
    },
    {
      "cell_type": "code",
      "source": [
        "cox_model5 = coxph(Surv(time, rinfct) ~ yschool + npartner, data=std)\n",
        "summary(cox_model5)"
      ],
      "metadata": {
        "id": "vpBrMitv3Jzv",
        "colab": {
          "base_uri": "https://localhost:8080/",
          "height": 347
        },
        "outputId": "de7ea5fe-2afb-4ef1-bc90-5c49c531a09f"
      },
      "execution_count": null,
      "outputs": [
        {
          "output_type": "display_data",
          "data": {
            "text/plain": [
              "Call:\n",
              "coxph(formula = Surv(time, rinfct) ~ yschool + npartner, data = std)\n",
              "\n",
              "  n= 877, number of events= 347 \n",
              "\n",
              "             coef exp(coef) se(coef)      z Pr(>|z|)    \n",
              "yschool  -0.16172   0.85068  0.03305 -4.893 9.95e-07 ***\n",
              "npartner  0.05650   1.05813  0.04987  1.133    0.257    \n",
              "---\n",
              "Signif. codes:  0 ‘***’ 0.001 ‘**’ 0.01 ‘*’ 0.05 ‘.’ 0.1 ‘ ’ 1\n",
              "\n",
              "         exp(coef) exp(-coef) lower .95 upper .95\n",
              "yschool     0.8507     1.1755    0.7973    0.9076\n",
              "npartner    1.0581     0.9451    0.9596    1.1668\n",
              "\n",
              "Concordance= 0.565  (se = 0.017 )\n",
              "Likelihood ratio test= 25.1  on 2 df,   p=4e-06\n",
              "Wald test            = 24.83  on 2 df,   p=4e-06\n",
              "Score (logrank) test = 24.6  on 2 df,   p=5e-06\n"
            ]
          },
          "metadata": {}
        }
      ]
    }
  ]
}